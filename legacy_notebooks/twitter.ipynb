{
 "cells": [
  {
   "cell_type": "code",
   "execution_count": 1,
   "metadata": {},
   "outputs": [],
   "source": [
    "from tweepy.streaming import StreamListener\n",
    "from tweepy import OAuthHandler\n",
    "from tweepy import Stream\n",
    "import tweepy\n",
    "from time import sleep"
   ]
  },
  {
   "cell_type": "code",
   "execution_count": 2,
   "metadata": {},
   "outputs": [],
   "source": [
    "# Read my (secret) credentials\n",
    "with open(\".twittercredentials\") as creds:\n",
    "    consumer_key, consumer_secret, access_token, access_token_secret = creds.read().split(\"\\n\")[0:4]"
   ]
  },
  {
   "cell_type": "code",
   "execution_count": null,
   "metadata": {},
   "outputs": [],
   "source": []
  },
  {
   "cell_type": "code",
   "execution_count": 3,
   "metadata": {},
   "outputs": [],
   "source": [
    "# Authenticate to the Twitter API\n",
    "auth = OAuthHandler(consumer_key, consumer_secret)\n",
    "auth.set_access_token(access_token, access_token_secret)\n",
    "api = tweepy.API(auth)"
   ]
  },
  {
   "cell_type": "code",
   "execution_count": 12,
   "metadata": {},
   "outputs": [
    {
     "data": {
      "text/plain": [
       "'api.twitter.com'"
      ]
     },
     "execution_count": 12,
     "metadata": {},
     "output_type": "execute_result"
    }
   ],
   "source": [
    "api.host"
   ]
  },
  {
   "cell_type": "code",
   "execution_count": 13,
   "metadata": {},
   "outputs": [],
   "source": [
    "first_tweet = api.update_status(\"Hello Again. #frompython\")"
   ]
  },
  {
   "cell_type": "code",
   "execution_count": 20,
   "metadata": {},
   "outputs": [],
   "source": [
    "second_tweet = api.update_status(\"Yup, this is a #thread !\", in_reply_to_status_id = first_tweet.id)"
   ]
  },
  {
   "cell_type": "code",
   "execution_count": 22,
   "metadata": {},
   "outputs": [],
   "source": []
  },
  {
   "cell_type": "markdown",
   "metadata": {},
   "source": [
    "## Google Translate API\n",
    "Unofficial API"
   ]
  },
  {
   "cell_type": "code",
   "execution_count": 276,
   "metadata": {},
   "outputs": [],
   "source": [
    "from googletrans import Translator\n",
    "translator = Translator()"
   ]
  },
  {
   "cell_type": "code",
   "execution_count": 277,
   "metadata": {},
   "outputs": [],
   "source": [
    "translation = translator.translate(\"Hello everyone\", src=\"en\", dest=\"fr\")"
   ]
  },
  {
   "cell_type": "code",
   "execution_count": 278,
   "metadata": {},
   "outputs": [
    {
     "data": {
      "text/plain": [
       "'Bonjour à tous'"
      ]
     },
     "execution_count": 278,
     "metadata": {},
     "output_type": "execute_result"
    }
   ],
   "source": [
    "translation.text"
   ]
  },
  {
   "cell_type": "code",
   "execution_count": 279,
   "metadata": {},
   "outputs": [],
   "source": [
    "import json\n",
    "with open(\"some_data_json.txt\") as d:\n",
    "    data = [json.loads(l) for l in d.readlines()]"
   ]
  },
  {
   "cell_type": "code",
   "execution_count": 283,
   "metadata": {},
   "outputs": [],
   "source": [
    "def translate_tweet(dta):\n",
    "    result = translator.translate(dta[\"title\"], src=\"en\", dest=\"fr\")\n",
    "    return result.text"
   ]
  },
  {
   "cell_type": "code",
   "execution_count": 284,
   "metadata": {},
   "outputs": [
    {
     "data": {
      "text/plain": [
       "['‘Fast Colour’ Review: une famille surdouée peut-elle sauver un monde desséché?',\n",
       " 'Ma belle-sœur bousille nos plans financiers',\n",
       " '«Little Woods» Review: La vie est plus dure que le sang',\n",
       " 'Comment organiser un dîner décontracté à la maison, mais envisagé',\n",
       " \"L'un des endroits les plus meurtriers de la frontière sud-ouest\",\n",
       " 'L’État dirigé par la Corée du Nord craint sous le régime des sanctions et met à l’épreuve la fidélité d’élite',\n",
       " \"Débats en France Comment reconstruire Notre-Dame, peser l'histoire et la modernité\",\n",
       " 'Dans «Gentleman Jack», Sally Wainwright passe d’une vie fascinante du journal à l’écran',\n",
       " '«Ramy» est une comédie assez révolutionnaire',\n",
       " 'Lire les remarques de la conférence de presse de Barr avant la publication du rapport Mueller']"
      ]
     },
     "execution_count": 284,
     "metadata": {},
     "output_type": "execute_result"
    }
   ],
   "source": [
    "[translate_tweet(d) for d in data[0:10]]"
   ]
  },
  {
   "cell_type": "markdown",
   "metadata": {},
   "source": [
    ".\n",
    "\n",
    "\n",
    "\n",
    "\n",
    "\n",
    "\n",
    "### Official API (probably more stable?)\n",
    "Also more messy!!"
   ]
  },
  {
   "cell_type": "code",
   "execution_count": 268,
   "metadata": {},
   "outputs": [],
   "source": [
    "! export GOOGLE_APPLICATION_CREDENTIALS=\"/home/vincent/GIT/NYT_Stream/st446-vviers-ce22de4f24f1.json\""
   ]
  },
  {
   "cell_type": "code",
   "execution_count": 293,
   "metadata": {},
   "outputs": [],
   "source": [
    "#from oauth2client.client import GoogleCredentials\n",
    "#credentials = GoogleCredentials.get_application_default()\n",
    "#GOOGLE_APPLICATION_CREDENTIALS=\"/home/vincent/GIT/NYT_Stream/st446-vviers-ce22de4f24f1.json\"\n",
    "\n",
    "from google.cloud import translate_v3beta1 as translate\n",
    "client = translate.TranslationServiceClient(credentials = \"/home/vincent/GIT/NYT_Stream/st446-vviers-ce22de4f24f1.json\").from_service_account_json(\"/home/vincent/GIT/NYT_Stream/st446-vviers-ce22de4f24f1.json\")"
   ]
  },
  {
   "cell_type": "code",
   "execution_count": 294,
   "metadata": {},
   "outputs": [
    {
     "data": {
      "text/plain": [
       "<google.cloud.translate_v3beta1.TranslationServiceClient at 0x7f5250ef1128>"
      ]
     },
     "execution_count": 294,
     "metadata": {},
     "output_type": "execute_result"
    }
   ],
   "source": [
    "client"
   ]
  },
  {
   "cell_type": "code",
   "execution_count": null,
   "metadata": {},
   "outputs": [],
   "source": []
  },
  {
   "cell_type": "code",
   "execution_count": 295,
   "metadata": {},
   "outputs": [],
   "source": [
    "PROJECT_ID = \"st446-vviers\"\n",
    "location = \"global\"\n",
    "\n",
    "parent = client.location_path(PROJECT_ID, location)"
   ]
  },
  {
   "cell_type": "code",
   "execution_count": null,
   "metadata": {},
   "outputs": [],
   "source": []
  },
  {
   "cell_type": "code",
   "execution_count": 296,
   "metadata": {},
   "outputs": [],
   "source": [
    "text = \"hello everyone!\"\n",
    "response = client.translate_text(\n",
    "    parent=parent,\n",
    "    contents=[text],\n",
    "    mime_type='text/plain',  # mime types: text/plain, text/html\n",
    "    source_language_code='en-US',\n",
    "    target_language_code='fr-FR')"
   ]
  },
  {
   "cell_type": "code",
   "execution_count": 298,
   "metadata": {},
   "outputs": [],
   "source": [
    "r = str(response)"
   ]
  },
  {
   "cell_type": "code",
   "execution_count": 299,
   "metadata": {},
   "outputs": [
    {
     "name": "stdout",
     "output_type": "stream",
     "text": [
      "translations {\n",
      "  translated_text: \"Bonjour \\303\\240 tous!\"\n",
      "}\n",
      "\n"
     ]
    }
   ],
   "source": [
    "print(r)"
   ]
  },
  {
   "cell_type": "code",
   "execution_count": null,
   "metadata": {},
   "outputs": [],
   "source": []
  },
  {
   "cell_type": "code",
   "execution_count": 303,
   "metadata": {},
   "outputs": [
    {
     "data": {
      "text/plain": [
       "b'Bonjour .;303.;240 tous!'"
      ]
     },
     "execution_count": 303,
     "metadata": {},
     "output_type": "execute_result"
    }
   ],
   "source": [
    "bytes(str(response).replace(\"translations {\\n  translated_text: \", \"\")\\\n",
    ".replace(\"\\n}\\n\", \"\")\\\n",
    ".replace('\"', ''), \"raw_unicode_escape\").replace(b\"\\\\\", b\".;\").replace()"
   ]
  },
  {
   "cell_type": "code",
   "execution_count": 198,
   "metadata": {},
   "outputs": [],
   "source": [
    "def parse_response(r):\n",
    "    \n",
    "    out = str(r).replace(\"translations {\\n  translated_text: \", \"\").replace(\"\\n}\\n\", \"\").replace('\"', '')\n",
    "    out = bytes(out, \"latin-1\").decode(\"utf-8\")\n",
    "    \n",
    "    return(out)\n",
    "    \n",
    "out = parse_response(response)"
   ]
  },
  {
   "cell_type": "code",
   "execution_count": 199,
   "metadata": {},
   "outputs": [
    {
     "name": "stdout",
     "output_type": "stream",
     "text": [
      "Bonjour \\303\\240 tous!\n"
     ]
    }
   ],
   "source": [
    "print(out)"
   ]
  },
  {
   "cell_type": "code",
   "execution_count": 159,
   "metadata": {},
   "outputs": [
    {
     "data": {
      "text/plain": [
       "b'Bonjour \\\\303\\\\240 tous!'"
      ]
     },
     "execution_count": 159,
     "metadata": {},
     "output_type": "execute_result"
    }
   ],
   "source": [
    "out.replace(\"\\\\\", b\";.\").replace(b\";.\", b\"\\\\\")"
   ]
  },
  {
   "cell_type": "code",
   "execution_count": 220,
   "metadata": {},
   "outputs": [
    {
     "data": {
      "text/plain": [
       "'\\\\helo'"
      ]
     },
     "execution_count": 220,
     "metadata": {},
     "output_type": "execute_result"
    }
   ],
   "source": [
    "r\"\\helo\""
   ]
  }
 ],
 "metadata": {
  "kernelspec": {
   "display_name": "Python 3",
   "language": "python",
   "name": "python3"
  },
  "language_info": {
   "codemirror_mode": {
    "name": "ipython",
    "version": 3
   },
   "file_extension": ".py",
   "mimetype": "text/x-python",
   "name": "python",
   "nbconvert_exporter": "python",
   "pygments_lexer": "ipython3",
   "version": "3.7.1"
  }
 },
 "nbformat": 4,
 "nbformat_minor": 2
}

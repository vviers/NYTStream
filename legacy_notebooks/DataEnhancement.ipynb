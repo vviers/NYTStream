{
 "cells": [
  {
   "cell_type": "markdown",
   "metadata": {},
   "source": [
    "# Data Enhancement"
   ]
  },
  {
   "cell_type": "code",
   "execution_count": 18,
   "metadata": {},
   "outputs": [],
   "source": [
    "import json\n",
    "import requests\n",
    "with open(\"some_data_json.txt\") as d:\n",
    "    data = [json.loads(l) for l in d.readlines()]\n",
    "    \n",
    "# NYT Credentials\n",
    "with open(\".credentials\", \"r\") as f:\n",
    "    key = f.read().strip(\"\\n\")"
   ]
  },
  {
   "cell_type": "code",
   "execution_count": 13,
   "metadata": {},
   "outputs": [],
   "source": [
    "def getSemantic(concept, concept_type, key = key):\n",
    "    \n",
    "    '''query the NewYorkTimes semantic API'''\n",
    "    \n",
    "    types = {'des':'nytd_des', 'geo':'nytd_geo', 'org':'nytd_org', 'per':'nytd_per'}\n",
    "    \n",
    "    if concept_type not in types:\n",
    "        raise ValueError(f\"concept_type must be one of {types}\")\n",
    "        \n",
    "    # build query\n",
    "    url = f'http://api.nytimes.com/svc/semantic/v2/concept/name/{types[concept_type]}/{concept}.json?fields=all&api-key={key}'\n",
    "    \n",
    "    # query the API, return JSON (as a python dict)\n",
    "    result_dic = requests.get(url)\n",
    "    if result_dic.status_code != 200:\n",
    "        print(\"Something went wrong...\")\n",
    "    \n",
    "    return result_dic.json()['results'][0]"
   ]
  },
  {
   "cell_type": "markdown",
   "metadata": {},
   "source": [
    "### Example 1"
   ]
  },
  {
   "cell_type": "code",
   "execution_count": 27,
   "metadata": {},
   "outputs": [
    {
     "data": {
      "text/plain": [
       "('Mueller Findings Kick Off a Political Tug of War That’s Only Just Beginning',\n",
       " 'Democrats appear to be gearing up, with Representative Jerrold Nadler of New York describing the report as a road map to holding the president accountable.')"
      ]
     },
     "execution_count": 27,
     "metadata": {},
     "output_type": "execute_result"
    }
   ],
   "source": [
    "ex = data[52]\n",
    "ex[\"title\"], ex[\"abstract\"]"
   ]
  },
  {
   "cell_type": "code",
   "execution_count": 21,
   "metadata": {},
   "outputs": [],
   "source": [
    "def printtags(tweet):\n",
    "    '''print tags'''\n",
    "    \n",
    "    def hashtag(hasht):\n",
    "        '''makes a list of potential hashtags from the NYT tags'''\n",
    "        \n",
    "        parentheses = re.compile(r\"\\((.+)\\)\")\n",
    "        \n",
    "        if isinstance(hasht, str):\n",
    "            return []\n",
    "        elif isinstance(hasht, list):\n",
    "            return [h for h in hasht]\n",
    "    \n",
    "    title = tweet['title']\n",
    "    abstract = tweet['abstract']\n",
    "    \n",
    "    all_hashtags = hashtag(tweet['des_facet']) + hashtag(tweet['org_facet']) + \\\n",
    "                    hashtag(tweet['per_facet']) + hashtag(tweet['geo_facet'])\n",
    "    \n",
    "    print(title)\n",
    "    print(abstract)\n",
    "    print(all_hashtags)"
   ]
  },
  {
   "cell_type": "code",
   "execution_count": 28,
   "metadata": {},
   "outputs": [
    {
     "name": "stdout",
     "output_type": "stream",
     "text": [
      "Mueller Findings Kick Off a Political Tug of War That’s Only Just Beginning\n",
      "Democrats appear to be gearing up, with Representative Jerrold Nadler of New York describing the report as a road map to holding the president accountable.\n",
      "['United States Politics and Government', 'Russian Interference in 2016 US Elections and Ties to Trump Associates', 'Presidential Election of 2016', 'House of Representatives', 'Republican Party', 'Justice Department', 'Senate Committee on the Judiciary', 'Democratic Party', 'Trump, Donald J', 'Mueller, Robert S III', 'Russia']\n"
     ]
    }
   ],
   "source": [
    "printtags(ex)"
   ]
  },
  {
   "cell_type": "code",
   "execution_count": 44,
   "metadata": {},
   "outputs": [],
   "source": [
    "semantic = getSemantic('Mueller, Robert S III', 'per')\n",
    "semantic_2 = getSemantic('Republican Party', 'org')\n",
    "semantic_3 = getSemantic('Russian Interference in 2016 US Elections and Ties to Trump Associates', 'des')"
   ]
  },
  {
   "cell_type": "code",
   "execution_count": 55,
   "metadata": {},
   "outputs": [],
   "source": [
    "def yago_exists(semantic):\n",
    "    \n",
    "    if \"links\" not in semantic:\n",
    "        return False\n",
    "    \n",
    "    for link in semantic[\"links\"]:\n",
    "        if link[\"link_type\"] == \"wikipedia_raw_name\":\n",
    "            print(\"You may be able to find this concept in Yago as:\")\n",
    "            print(link[\"link\"])\n",
    "            return True\n",
    "        \n",
    "    return False"
   ]
  },
  {
   "cell_type": "code",
   "execution_count": 56,
   "metadata": {},
   "outputs": [
    {
     "name": "stdout",
     "output_type": "stream",
     "text": [
      "You may be able to find this concept in Yago as:\n",
      "Robert_Mueller\n"
     ]
    },
    {
     "data": {
      "text/plain": [
       "True"
      ]
     },
     "execution_count": 56,
     "metadata": {},
     "output_type": "execute_result"
    }
   ],
   "source": [
    "yago_exists(semantic)"
   ]
  },
  {
   "cell_type": "code",
   "execution_count": 57,
   "metadata": {},
   "outputs": [
    {
     "name": "stdout",
     "output_type": "stream",
     "text": [
      "You may be able to find this concept in Yago as:\n",
      "Republican_Party_(United_States)\n"
     ]
    },
    {
     "data": {
      "text/plain": [
       "True"
      ]
     },
     "execution_count": 57,
     "metadata": {},
     "output_type": "execute_result"
    }
   ],
   "source": [
    "yago_exists(semantic_2)"
   ]
  },
  {
   "cell_type": "code",
   "execution_count": 59,
   "metadata": {},
   "outputs": [
    {
     "data": {
      "text/plain": [
       "False"
      ]
     },
     "execution_count": 59,
     "metadata": {},
     "output_type": "execute_result"
    }
   ],
   "source": [
    "yago_exists(semantic_3)"
   ]
  },
  {
   "cell_type": "markdown",
   "metadata": {},
   "source": [
    "## Strategy\n",
    "- get tweet from Kafka\n",
    "- check tweet tags, and if anything can be found about them in Yago.\n",
    "- pick 1 at random\n",
    "- retrieve info about them in Yago (w/ Spark)\n",
    "- pick 1 fact at random, post enhanced data to Kafka"
   ]
  },
  {
   "cell_type": "code",
   "execution_count": 118,
   "metadata": {},
   "outputs": [],
   "source": [
    "def getTags(tweet):\n",
    "    \n",
    "    '''retrieve all tags about organisations, people, and places for a given article'''\n",
    "    \n",
    "    def tags(tag):   \n",
    "        '''lists the NYT tags'''     \n",
    "        if isinstance(tag, str):\n",
    "            return []\n",
    "        elif isinstance(tag, list):\n",
    "            return [h for h in tag]\n",
    "\n",
    "    all_tags = {\"org\":tags(tweet['org_facet']), \"per\":tags(tweet['per_facet']), \"geo\":tags(tweet['geo_facet'])}\n",
    "    \n",
    "    return all_tags\n",
    "\n",
    "    \n",
    "def getSemantic(concept, concept_type, key = key):\n",
    "    \n",
    "    '''query the NewYorkTimes semantic API'''\n",
    "    \n",
    "    types = {'des':'nytd_des', 'geo':'nytd_geo', 'org':'nytd_org', 'per':'nytd_per'}\n",
    "    \n",
    "    if concept_type not in types:\n",
    "        raise ValueError(f\"concept_type must be one of {types}\")\n",
    "        \n",
    "    if len(concept) == 0:\n",
    "        return []\n",
    "        \n",
    "    # build query\n",
    "    url = f'http://api.nytimes.com/svc/semantic/v2/concept/name/{types[concept_type]}/{concept}.json?fields=all&api-key={key}'\n",
    "    \n",
    "    # query the API, return JSON (as a python dict)\n",
    "    result_dic = requests.get(url)\n",
    "    if result_dic.status_code != 200:\n",
    "        print(\"Something went wrong...\")\n",
    "        \n",
    "    if len(result_dic.json()['results']) == 0:\n",
    "        return []\n",
    "    \n",
    "    return result_dic.json()['results'][0]\n",
    "\n",
    "\n",
    "def yagoExists(semantic):\n",
    "    \n",
    "    '''Check whether a given NYT semantic concept could be found in Yago database.\n",
    "       This uses the fact that Yago concepts use their Wikipedia name.'''\n",
    "    \n",
    "    if \"links\" not in semantic:\n",
    "        return False\n",
    "    \n",
    "    for link in semantic[\"links\"]:\n",
    "        if link[\"link_type\"] == \"wikipedia_raw_name\":\n",
    "            print(\"You may be able to find this concept on wikipedia:\")\n",
    "            print(\"https://en.wikipedia.org/wiki/\" + link[\"link\"])\n",
    "            return link[\"link\"]\n",
    "        \n",
    "    return False\n",
    "\n",
    "def extractYago(tags):\n",
    "    yagoconcepts = []\n",
    "    for typ in tags:\n",
    "        semantics = [getSemantic(t, typ) for t in tags[typ]]\n",
    "        yagoconcepts += [yagoExists(s) for s in semantics]\n",
    "    return [y for y in yagoconcepts if y]"
   ]
  },
  {
   "cell_type": "markdown",
   "metadata": {},
   "source": [
    "## Example2"
   ]
  },
  {
   "cell_type": "code",
   "execution_count": 119,
   "metadata": {},
   "outputs": [],
   "source": [
    "tags = getTags(data[89])"
   ]
  },
  {
   "cell_type": "code",
   "execution_count": 120,
   "metadata": {},
   "outputs": [
    {
     "name": "stdout",
     "output_type": "stream",
     "text": [
      "You may be able to find this concept on wikipedia:\n",
      "https://en.wikipedia.org/wiki/Gabrielle_Giffords\n",
      "You may be able to find this concept on wikipedia:\n",
      "https://en.wikipedia.org/wiki/Minnesota\n"
     ]
    },
    {
     "data": {
      "text/plain": [
       "['Gabrielle_Giffords', 'Minnesota']"
      ]
     },
     "execution_count": 120,
     "metadata": {},
     "output_type": "execute_result"
    }
   ],
   "source": [
    "extractYago(tags)"
   ]
  },
  {
   "cell_type": "markdown",
   "metadata": {},
   "source": [
    "## Example 3"
   ]
  },
  {
   "cell_type": "code",
   "execution_count": 123,
   "metadata": {},
   "outputs": [
    {
     "name": "stdout",
     "output_type": "stream",
     "text": [
      "You may be able to find this concept on wikipedia:\n",
      "https://en.wikipedia.org/wiki/London\n",
      "You may be able to find this concept on wikipedia:\n",
      "https://en.wikipedia.org/wiki/Great_Britain\n",
      "You may be able to find this concept on wikipedia:\n",
      "https://en.wikipedia.org/wiki/Germany\n"
     ]
    },
    {
     "data": {
      "text/plain": [
       "['London', 'Great_Britain', 'Germany']"
      ]
     },
     "execution_count": 123,
     "metadata": {},
     "output_type": "execute_result"
    }
   ],
   "source": [
    "tags = getTags(data[130])\n",
    "extractYago(tags)"
   ]
  },
  {
   "cell_type": "code",
   "execution_count": null,
   "metadata": {},
   "outputs": [],
   "source": []
  }
 ],
 "metadata": {
  "kernelspec": {
   "display_name": "Python 3",
   "language": "python",
   "name": "python3"
  },
  "language_info": {
   "codemirror_mode": {
    "name": "ipython",
    "version": 3
   },
   "file_extension": ".py",
   "mimetype": "text/x-python",
   "name": "python",
   "nbconvert_exporter": "python",
   "pygments_lexer": "ipython3",
   "version": "3.7.1"
  }
 },
 "nbformat": 4,
 "nbformat_minor": 2
}

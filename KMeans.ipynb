{
 "cells": [
  {
   "cell_type": "markdown",
   "metadata": {},
   "source": [
    "## Streaming K-Means Prototype"
   ]
  },
  {
   "cell_type": "code",
   "execution_count": 58,
   "metadata": {},
   "outputs": [],
   "source": [
    "import json\n",
    "with open(\"some_data_json.txt\") as d:\n",
    "    data = [json.loads(l) for l in d.readlines()]"
   ]
  },
  {
   "cell_type": "code",
   "execution_count": 67,
   "metadata": {},
   "outputs": [],
   "source": [
    "import re\n",
    "import numpy as np\n",
    "def extract_tags(d):  \n",
    "    \n",
    "    def clean_tag(t):\n",
    "        parentheses = re.compile(r\"\\((.+)\\)\")\n",
    "\n",
    "        if isinstance(t, str):\n",
    "            return []\n",
    "        elif isinstance(t, list):\n",
    "            return [re.sub(parentheses, \"\", tag).lower().replace(\" \", \"\") for tag in t]\n",
    "    \n",
    "    all_tags = clean_tag(d['des_facet']) + clean_tag(d['org_facet']) + \\\n",
    "                    clean_tag(d['per_facet']) + clean_tag(d['geo_facet'])\n",
    "    \n",
    "    return np.array(all_tags)\n",
    "\n",
    "tags = [extract_tags(d) for d in data]"
   ]
  },
  {
   "cell_type": "code",
   "execution_count": 68,
   "metadata": {},
   "outputs": [
    {
     "data": {
      "text/plain": [
       "[array(['movies', 'hart,julia'], dtype='<U10'),\n",
       " array(['customs,etiquetteandmanners'], dtype='<U27'),\n",
       " array(['movies', 'dale,jamesbadge', 'thompson,tessa', 'james,lily',\n",
       "        'dacosta,nia'], dtype='<U15'),\n",
       " array(['cookingandcookbooks', 'parties', 'kayne,jenni'], dtype='<U19'),\n",
       " array(['illegalimmigration', 'immigrationandemigration', 'borderbarriers',\n",
       "        'booksandliterature', 'unitedstatespoliticsandgovernment',\n",
       "        'borderpatrol', 'trump,donaldj'], dtype='<U33'),\n",
       " array(['economicconditionsandtrends', 'embargoesandsanctions',\n",
       "        'politicsandgovernment', 'kimjong-un', 'northkorea'], dtype='<U27'),\n",
       " array(['firesandfirefighters', 'historicbuildingsandsites',\n",
       "        'notredamecathedral', 'france', 'paris'], dtype='<U25'),\n",
       " array(['womenandgirls', 'diaries', 'television', 'homeboxoffice',\n",
       "        'britishbroadcastingcorp', 'annelister'], dtype='<U23'),\n",
       " array(['television', 'muslimamericans', 'hulu.com', 'discrimination',\n",
       "        'youssef,ramy'], dtype='<U15'),\n",
       " array(['russianinterferencein2016uselectionsandtiestotrumpassociates',\n",
       "        'presidentialelectionof2016', 'specialprosecutors',\n",
       "        'barr,williamp'], dtype='<U60'),\n",
       " array(['trafficaccidentsandsafety', 'buses', 'travelandvacations',\n",
       "        'deaths', 'madeira', 'germany'], dtype='<U25'),\n",
       " array(['realestateandhousing', 'familiesandfamilylife'], dtype='<U21'),\n",
       " array(['sculpture', 'art', 'metropolitanmuseumofart', 'kwade,alicja'],\n",
       "       dtype='<U23'),\n",
       " array(['voterregistrationandrequirements', 'states', 'ex-convicts',\n",
       "        'votingandvoters', 'unitedstatespoliticsandgovernment',\n",
       "        'russianinterferencein2016uselectionsandtiestotrumpassociates',\n",
       "        'mueller,robertsiii'], dtype='<U60'),\n",
       " array(['socialmedia', 'celebrities', 'beauty', 'plasticsurgery',\n",
       "        'teethanddentistry', 'instagraminc', 'kardashian,kim',\n",
       "        'jenner,kylie', 'hadid,bella'], dtype='<U17'),\n",
       " array(['russianinterferencein2016uselectionsandtiestotrumpassociates',\n",
       "        'unitedstatespoliticsandgovernment', 'justicedepartment',\n",
       "        'attorneysgeneral', 'specialprosecutors', 'barr,williamp'],\n",
       "       dtype='<U60'),\n",
       " array([], dtype=float64),\n",
       " array([], dtype=float64),\n",
       " array(['realestateandhousing', 'financialdistrict', 'harlem',\n",
       "        'brooklynheights'], dtype='<U20'),\n",
       " array(['realestateandhousing', 'financialdistrict', 'harlem',\n",
       "        'brooklynheights'], dtype='<U20')]"
      ]
     },
     "execution_count": 68,
     "metadata": {},
     "output_type": "execute_result"
    }
   ],
   "source": [
    "tags"
   ]
  },
  {
   "cell_type": "code",
   "execution_count": 57,
   "metadata": {},
   "outputs": [
    {
     "data": {
      "text/plain": [
       "{'slug_name': '18fastcolor',\n",
       " 'section': 'Movies',\n",
       " 'subsection': '',\n",
       " 'title': '‘Fast Color’ Review: Can a Gifted Family Save a Parched World?',\n",
       " 'abstract': 'Julia Hart’s wonderfully strange dystopian drama pits three gifted black women against a dried-up world and a hostile government.',\n",
       " 'url': 'https://www.nytimes.com/2019/04/18/movies/fast-color-review.html',\n",
       " 'byline': 'By JEANNETTE CATSOULIS',\n",
       " 'thumbnail_standard': 'https://static01.nyt.com/images/2019/04/17/arts/fastcolor2/fastcolor2-thumbStandard.jpg',\n",
       " 'item_type': 'Article',\n",
       " 'source': 'The New York Times',\n",
       " 'updated_date': '2019-04-18T10:36:50-04:00',\n",
       " 'created_date': '2019-04-18T10:34:38-04:00',\n",
       " 'published_date': '2019-04-17T20:00:00-04:00',\n",
       " 'first_published_date': '2019-04-18T10:33:07-04:00',\n",
       " 'material_type_facet': 'Review',\n",
       " 'kicker': 'Critic’s Pick',\n",
       " 'subheadline': None,\n",
       " 'des_facet': ['Movies'],\n",
       " 'org_facet': '',\n",
       " 'per_facet': ['Hart, Julia (Film Director)'],\n",
       " 'geo_facet': '',\n",
       " 'related_urls': [{'suggested_link_text': '‘The Darkest Minds,’ With Thought Control and Telekinesis',\n",
       "   'url': 'https://www.nytimes.com/2018/08/02/movies/the-darkest-minds-review.html'}],\n",
       " 'multimedia': [{'url': 'https://static01.nyt.com/images/2019/04/17/arts/fastcolor2/fastcolor2-thumbStandard.jpg',\n",
       "   'format': 'Standard Thumbnail',\n",
       "   'height': 75,\n",
       "   'width': 75,\n",
       "   'type': 'image',\n",
       "   'subtype': 'photo',\n",
       "   'caption': 'Gugu Mbatha-Raw in “Fast Color.”<br /><br />',\n",
       "   'copyright': 'Jacob Yakob/Codeblack Films'},\n",
       "  {'url': 'https://static01.nyt.com/images/2019/04/17/arts/fastcolor2/merlin_153438735_83178440-1ffe-42d0-a0cf-c641432d7973-articleInline.jpg',\n",
       "   'format': 'Normal',\n",
       "   'height': 107,\n",
       "   'width': 190,\n",
       "   'type': 'image',\n",
       "   'subtype': 'photo',\n",
       "   'caption': 'Gugu Mbatha-Raw in “Fast Color.”<br /><br />',\n",
       "   'copyright': 'Jacob Yakob/Codeblack Films'},\n",
       "  {'url': 'https://static01.nyt.com/images/2019/04/17/arts/fastcolor2/fastcolor2-mediumThreeByTwo210.jpg',\n",
       "   'format': 'mediumThreeByTwo210',\n",
       "   'height': 140,\n",
       "   'width': 210,\n",
       "   'type': 'image',\n",
       "   'subtype': 'photo',\n",
       "   'caption': 'Gugu Mbatha-Raw in “Fast Color.”<br /><br />',\n",
       "   'copyright': 'Jacob Yakob/Codeblack Films'},\n",
       "  {'url': 'https://static01.nyt.com/images/2019/04/17/arts/fastcolor2/fastcolor2-mediumThreeByTwo440.jpg',\n",
       "   'format': 'mediumThreeByTwo440',\n",
       "   'height': 293,\n",
       "   'width': 440,\n",
       "   'type': 'image',\n",
       "   'subtype': 'photo',\n",
       "   'caption': 'Gugu Mbatha-Raw in “Fast Color.”<br /><br />',\n",
       "   'copyright': 'Jacob Yakob/Codeblack Films'}]}"
      ]
     },
     "execution_count": 57,
     "metadata": {},
     "output_type": "execute_result"
    }
   ],
   "source": [
    "json.loads(lines[0])"
   ]
  },
  {
   "cell_type": "code",
   "execution_count": 49,
   "metadata": {},
   "outputs": [],
   "source": [
    "data = [getDict(l) for l in lines]"
   ]
  },
  {
   "cell_type": "code",
   "execution_count": null,
   "metadata": {},
   "outputs": [],
   "source": []
  },
  {
   "cell_type": "code",
   "execution_count": 38,
   "metadata": {},
   "outputs": [
    {
     "data": {
      "text/plain": [
       "[5, 9, 17, 30, 37, 41, 68]"
      ]
     },
     "execution_count": 38,
     "metadata": {},
     "output_type": "execute_result"
    }
   ],
   "source": [
    "[i for i, j in zip(range(len(data)), data) if j == 0]"
   ]
  },
  {
   "cell_type": "code",
   "execution_count": 47,
   "metadata": {},
   "outputs": [
    {
     "ename": "JSONDecodeError",
     "evalue": "Expecting property name enclosed in double quotes: line 1 column 2 (char 1)",
     "output_type": "error",
     "traceback": [
      "\u001b[0;31m---------------------------------------------------------------------------\u001b[0m",
      "\u001b[0;31mJSONDecodeError\u001b[0m                           Traceback (most recent call last)",
      "\u001b[0;32m<ipython-input-47-a77365848d0c>\u001b[0m in \u001b[0;36m<module>\u001b[0;34m\u001b[0m\n\u001b[0;32m----> 1\u001b[0;31m \u001b[0mjson\u001b[0m\u001b[0;34m.\u001b[0m\u001b[0mloads\u001b[0m\u001b[0;34m(\u001b[0m\u001b[0mlines\u001b[0m\u001b[0;34m[\u001b[0m\u001b[0;36m5\u001b[0m\u001b[0;34m]\u001b[0m\u001b[0;34m.\u001b[0m\u001b[0mreplace\u001b[0m\u001b[0;34m(\u001b[0m\u001b[0;34m\"\\n\"\u001b[0m\u001b[0;34m,\u001b[0m \u001b[0;34m\"\"\u001b[0m\u001b[0;34m)\u001b[0m\u001b[0;34m.\u001b[0m\u001b[0mreplace\u001b[0m\u001b[0;34m(\u001b[0m\u001b[0;34m\"None\"\u001b[0m\u001b[0;34m,\u001b[0m \u001b[0;34m'\"\"'\u001b[0m\u001b[0;34m)\u001b[0m\u001b[0;34m)\u001b[0m\u001b[0;34m\u001b[0m\u001b[0;34m\u001b[0m\u001b[0m\n\u001b[0m",
      "\u001b[0;32m~/anaconda3/lib/python3.7/json/__init__.py\u001b[0m in \u001b[0;36mloads\u001b[0;34m(s, encoding, cls, object_hook, parse_float, parse_int, parse_constant, object_pairs_hook, **kw)\u001b[0m\n\u001b[1;32m    346\u001b[0m             \u001b[0mparse_int\u001b[0m \u001b[0;32mis\u001b[0m \u001b[0;32mNone\u001b[0m \u001b[0;32mand\u001b[0m \u001b[0mparse_float\u001b[0m \u001b[0;32mis\u001b[0m \u001b[0;32mNone\u001b[0m \u001b[0;32mand\u001b[0m\u001b[0;34m\u001b[0m\u001b[0;34m\u001b[0m\u001b[0m\n\u001b[1;32m    347\u001b[0m             parse_constant is None and object_pairs_hook is None and not kw):\n\u001b[0;32m--> 348\u001b[0;31m         \u001b[0;32mreturn\u001b[0m \u001b[0m_default_decoder\u001b[0m\u001b[0;34m.\u001b[0m\u001b[0mdecode\u001b[0m\u001b[0;34m(\u001b[0m\u001b[0ms\u001b[0m\u001b[0;34m)\u001b[0m\u001b[0;34m\u001b[0m\u001b[0;34m\u001b[0m\u001b[0m\n\u001b[0m\u001b[1;32m    349\u001b[0m     \u001b[0;32mif\u001b[0m \u001b[0mcls\u001b[0m \u001b[0;32mis\u001b[0m \u001b[0;32mNone\u001b[0m\u001b[0;34m:\u001b[0m\u001b[0;34m\u001b[0m\u001b[0;34m\u001b[0m\u001b[0m\n\u001b[1;32m    350\u001b[0m         \u001b[0mcls\u001b[0m \u001b[0;34m=\u001b[0m \u001b[0mJSONDecoder\u001b[0m\u001b[0;34m\u001b[0m\u001b[0;34m\u001b[0m\u001b[0m\n",
      "\u001b[0;32m~/anaconda3/lib/python3.7/json/decoder.py\u001b[0m in \u001b[0;36mdecode\u001b[0;34m(self, s, _w)\u001b[0m\n\u001b[1;32m    335\u001b[0m \u001b[0;34m\u001b[0m\u001b[0m\n\u001b[1;32m    336\u001b[0m         \"\"\"\n\u001b[0;32m--> 337\u001b[0;31m         \u001b[0mobj\u001b[0m\u001b[0;34m,\u001b[0m \u001b[0mend\u001b[0m \u001b[0;34m=\u001b[0m \u001b[0mself\u001b[0m\u001b[0;34m.\u001b[0m\u001b[0mraw_decode\u001b[0m\u001b[0;34m(\u001b[0m\u001b[0ms\u001b[0m\u001b[0;34m,\u001b[0m \u001b[0midx\u001b[0m\u001b[0;34m=\u001b[0m\u001b[0m_w\u001b[0m\u001b[0;34m(\u001b[0m\u001b[0ms\u001b[0m\u001b[0;34m,\u001b[0m \u001b[0;36m0\u001b[0m\u001b[0;34m)\u001b[0m\u001b[0;34m.\u001b[0m\u001b[0mend\u001b[0m\u001b[0;34m(\u001b[0m\u001b[0;34m)\u001b[0m\u001b[0;34m)\u001b[0m\u001b[0;34m\u001b[0m\u001b[0;34m\u001b[0m\u001b[0m\n\u001b[0m\u001b[1;32m    338\u001b[0m         \u001b[0mend\u001b[0m \u001b[0;34m=\u001b[0m \u001b[0m_w\u001b[0m\u001b[0;34m(\u001b[0m\u001b[0ms\u001b[0m\u001b[0;34m,\u001b[0m \u001b[0mend\u001b[0m\u001b[0;34m)\u001b[0m\u001b[0;34m.\u001b[0m\u001b[0mend\u001b[0m\u001b[0;34m(\u001b[0m\u001b[0;34m)\u001b[0m\u001b[0;34m\u001b[0m\u001b[0;34m\u001b[0m\u001b[0m\n\u001b[1;32m    339\u001b[0m         \u001b[0;32mif\u001b[0m \u001b[0mend\u001b[0m \u001b[0;34m!=\u001b[0m \u001b[0mlen\u001b[0m\u001b[0;34m(\u001b[0m\u001b[0ms\u001b[0m\u001b[0;34m)\u001b[0m\u001b[0;34m:\u001b[0m\u001b[0;34m\u001b[0m\u001b[0;34m\u001b[0m\u001b[0m\n",
      "\u001b[0;32m~/anaconda3/lib/python3.7/json/decoder.py\u001b[0m in \u001b[0;36mraw_decode\u001b[0;34m(self, s, idx)\u001b[0m\n\u001b[1;32m    351\u001b[0m         \"\"\"\n\u001b[1;32m    352\u001b[0m         \u001b[0;32mtry\u001b[0m\u001b[0;34m:\u001b[0m\u001b[0;34m\u001b[0m\u001b[0;34m\u001b[0m\u001b[0m\n\u001b[0;32m--> 353\u001b[0;31m             \u001b[0mobj\u001b[0m\u001b[0;34m,\u001b[0m \u001b[0mend\u001b[0m \u001b[0;34m=\u001b[0m \u001b[0mself\u001b[0m\u001b[0;34m.\u001b[0m\u001b[0mscan_once\u001b[0m\u001b[0;34m(\u001b[0m\u001b[0ms\u001b[0m\u001b[0;34m,\u001b[0m \u001b[0midx\u001b[0m\u001b[0;34m)\u001b[0m\u001b[0;34m\u001b[0m\u001b[0;34m\u001b[0m\u001b[0m\n\u001b[0m\u001b[1;32m    354\u001b[0m         \u001b[0;32mexcept\u001b[0m \u001b[0mStopIteration\u001b[0m \u001b[0;32mas\u001b[0m \u001b[0merr\u001b[0m\u001b[0;34m:\u001b[0m\u001b[0;34m\u001b[0m\u001b[0;34m\u001b[0m\u001b[0m\n\u001b[1;32m    355\u001b[0m             \u001b[0;32mraise\u001b[0m \u001b[0mJSONDecodeError\u001b[0m\u001b[0;34m(\u001b[0m\u001b[0;34m\"Expecting value\"\u001b[0m\u001b[0;34m,\u001b[0m \u001b[0ms\u001b[0m\u001b[0;34m,\u001b[0m \u001b[0merr\u001b[0m\u001b[0;34m.\u001b[0m\u001b[0mvalue\u001b[0m\u001b[0;34m)\u001b[0m \u001b[0;32mfrom\u001b[0m \u001b[0;32mNone\u001b[0m\u001b[0;34m\u001b[0m\u001b[0;34m\u001b[0m\u001b[0m\n",
      "\u001b[0;31mJSONDecodeError\u001b[0m: Expecting property name enclosed in double quotes: line 1 column 2 (char 1)"
     ]
    }
   ],
   "source": [
    "json.loads(lines[5].replace(\"\\n\", \"\").replace(\"None\", '\"\"'))"
   ]
  },
  {
   "cell_type": "code",
   "execution_count": 52,
   "metadata": {},
   "outputs": [
    {
     "data": {
      "text/plain": [
       "'{\\'slug_name\\': \\'15trudeau-women\\', \\'section\\': \\'World\\', \\'subsection\\': \\'Canada\\', \\'title\\': \\'What’s a Feminist Government? Canada, and Trudeau, Grapple With the Question\\', \\'abstract\\': \\'Accusations by Canada’s former attorney general have propelled the country into an agonized and occasionally hairsplitting argument about feminism in political life.\\', \\'url\\': \\'https://www.nytimes.com/2019/04/15/world/canada/trudeau-jody-wilson-raybould-feminism.html\\', \\'byline\\': \\'By SARAH LYALL\\', \\'thumbnail_standard\\': \\'https://static01.nyt.com/images/2019/04/08/world/00canada-women1/00canada-women1-thumbStandard.jpg\\', \\'item_type\\': \\'Article\\', \\'source\\': \\'The New York Times\\', \\'updated_date\\': \\'2019-04-15T05:01:38-04:00\\', \\'created_date\\': \\'2019-04-15T05:01:38-04:00\\', \\'published_date\\': \\'2019-04-14T20:00:00-04:00\\', \\'first_published_date\\': \\'2019-04-15T05:00:08-04:00\\', \\'material_type_facet\\': \\'News\\', \\'kicker\\': \"\", \\'subheadline\\': \"\", \\'des_facet\\': [\\'Women and Girls\\', \\'Legislatures and Parliaments\\', \"Women\\'s Rights\"], \\'org_facet\\': \\'\\', \\'per_facet\\': [\\'Trudeau, Justin\\', \\'Wilson-Raybould, Jody\\'], \\'geo_facet\\': [\\'Canada\\'], \\'related_urls\\': [{\\'suggested_link_text\\': \\'Trudeau Promised a Fresh Approach to Politics. Now He’s Embroiled in Scandal.\\', \\'url\\': \\'https://www.nytimes.com/2019/03/01/world/canada/trudeau-scandal-snc-lavalin.html\\'}, {\\'suggested_link_text\\': \\'Trudeau and Liberal Party Expel 2 Ex-Ministers at Center of Storm\\', \\'url\\': \\'https://www.nytimes.com/2019/04/02/world/canada/trudeau-liberal-expel-minister.html\\'}, {\\'suggested_link_text\\': \\'An Unapologetic Trudeau Speaks Up on Political Crisis Rattling Canada\\', \\'url\\': \\'https://www.nytimes.com/2019/03/07/world/canada/trudeau-scandal.html\\'}], \\'multimedia\\': [{\\'url\\': \\'https://static01.nyt.com/images/2019/04/08/world/00canada-women1/00canada-women1-thumbStandard.jpg\\', \\'format\\': \\'Standard Thumbnail\\', \\'height\\': 75, \\'width\\': 75, \\'type\\': \\'image\\', \\'subtype\\': \\'photo\\', \\'caption\\': \\'Prime Minister Justin Trudeau of Canada at the “Daughters of the Vote” day in Parliament this month. Several dozen women stood up and turned their backs on him.\\', \\'copyright\\': \\'Adrian Wyld/The Canadian Press, via Associated Press\\'}, {\\'url\\': \\'https://static01.nyt.com/images/2019/04/08/world/00canada-women1/merlin_153072180_431e516b-daa4-4bd7-9da5-c55475cac788-articleInline.jpg\\', \\'format\\': \\'Normal\\', \\'height\\': 125, \\'width\\': 190, \\'type\\': \\'image\\', \\'subtype\\': \\'photo\\', \\'caption\\': \\'Prime Minister Justin Trudeau of Canada at the “Daughters of the Vote” day in Parliament this month. Several dozen women stood up and turned their backs on him.\\', \\'copyright\\': \\'Adrian Wyld/The Canadian Press, via Associated Press\\'}, {\\'url\\': \\'https://static01.nyt.com/images/2019/04/08/world/00canada-women1/00canada-women1-mediumThreeByTwo210.jpg\\', \\'format\\': \\'mediumThreeByTwo210\\', \\'height\\': 140, \\'width\\': 210, \\'type\\': \\'image\\', \\'subtype\\': \\'photo\\', \\'caption\\': \\'Prime Minister Justin Trudeau of Canada at the “Daughters of the Vote” day in Parliament this month. Several dozen women stood up and turned their backs on him.\\', \\'copyright\\': \\'Adrian Wyld/The Canadian Press, via Associated Press\\'}, {\\'url\\': \\'https://static01.nyt.com/images/2019/04/08/world/00canada-women1/00canada-women1-mediumThreeByTwo440.jpg\\', \\'format\\': \\'mediumThreeByTwo440\\', \\'height\\': 293, \\'width\\': 440, \\'type\\': \\'image\\', \\'subtype\\': \\'photo\\', \\'caption\\': \\'Prime Minister Justin Trudeau of Canada at the “Daughters of the Vote” day in Parliament this month. Several dozen women stood up and turned their backs on him.\\', \\'copyright\\': \\'Adrian Wyld/The Canadian Press, via Associated Press\\'}]}'"
      ]
     },
     "execution_count": 52,
     "metadata": {},
     "output_type": "execute_result"
    }
   ],
   "source": [
    "lines[5].replace(\"\\n\", \"\").replace(\"None\", '\"\"')"
   ]
  },
  {
   "cell_type": "code",
   "execution_count": null,
   "metadata": {},
   "outputs": [],
   "source": []
  }
 ],
 "metadata": {
  "kernelspec": {
   "display_name": "Python 3",
   "language": "python",
   "name": "python3"
  },
  "language_info": {
   "codemirror_mode": {
    "name": "ipython",
    "version": 3
   },
   "file_extension": ".py",
   "mimetype": "text/x-python",
   "name": "python",
   "nbconvert_exporter": "python",
   "pygments_lexer": "ipython3",
   "version": "3.7.1"
  }
 },
 "nbformat": 4,
 "nbformat_minor": 2
}

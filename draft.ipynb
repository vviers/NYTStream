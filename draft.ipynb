{
 "cells": [
  {
   "cell_type": "code",
   "execution_count": 1,
   "metadata": {},
   "outputs": [],
   "source": [
    "import requests"
   ]
  },
  {
   "cell_type": "code",
   "execution_count": 2,
   "metadata": {},
   "outputs": [],
   "source": [
    "with open(\".credentials\", \"r\") as f:\n",
    "    key = f.read().strip(\"\\n\")"
   ]
  },
  {
   "cell_type": "code",
   "execution_count": 17,
   "metadata": {},
   "outputs": [],
   "source": [
    "url = f'https://api.nytimes.com/svc/news/v3/content/all/all/24.json?api-key={key}'\n",
    "r = requests.get(url)"
   ]
  },
  {
   "cell_type": "code",
   "execution_count": 18,
   "metadata": {},
   "outputs": [],
   "source": [
    "resp = r.json()"
   ]
  },
  {
   "cell_type": "code",
   "execution_count": 28,
   "metadata": {},
   "outputs": [
    {
     "data": {
      "text/plain": [
       "{'slug_name': '00sl-sheet-4',\n",
       " 'section': 'Smarter Living',\n",
       " 'subsection': '',\n",
       " 'title': '',\n",
       " 'abstract': '',\n",
       " 'url': 'https://www.nytimes.com/video/embedded/smarter-living/100000006431866/sheet4.html',\n",
       " 'byline': None,\n",
       " 'thumbnail_standard': 'https://static01.nyt.com/images/2019/03/27/autossell/00sl-sheet-still-4/00sl-sheet-still-4-thumbStandard.png',\n",
       " 'item_type': 'Video',\n",
       " 'source': 'The New York Times',\n",
       " 'updated_date': '2019-03-27T11:32:04-04:00',\n",
       " 'created_date': '2019-03-27T11:29:42-04:00',\n",
       " 'published_date': '2019-03-26T20:00:00-04:00',\n",
       " 'first_published_date': '2019-03-27T11:28:12-04:00',\n",
       " 'material_type_facet': 'Video',\n",
       " 'kicker': None,\n",
       " 'subheadline': None,\n",
       " 'des_facet': '',\n",
       " 'org_facet': '',\n",
       " 'per_facet': '',\n",
       " 'geo_facet': '',\n",
       " 'related_urls': None,\n",
       " 'multimedia': [{'url': 'https://static01.nyt.com/images/2019/03/27/autossell/00sl-sheet-still-4/00sl-sheet-still-4-thumbStandard.png',\n",
       "   'format': 'Standard Thumbnail',\n",
       "   'height': 75,\n",
       "   'width': 75,\n",
       "   'type': 'image',\n",
       "   'subtype': 'photo',\n",
       "   'caption': None,\n",
       "   'copyright': None},\n",
       "  {'url': 'https://static01.nyt.com/images/2019/03/27/autossell/00sl-sheet-still-4/00sl-sheet-still-4-articleInline.png',\n",
       "   'format': 'Normal',\n",
       "   'height': 286,\n",
       "   'width': 190,\n",
       "   'type': 'image',\n",
       "   'subtype': 'photo',\n",
       "   'caption': None,\n",
       "   'copyright': None},\n",
       "  {'url': 'https://static01.nyt.com/images/2019/03/27/autossell/00sl-sheet-still-4/00sl-sheet-still-4-mediumThreeByTwo210.png',\n",
       "   'format': 'mediumThreeByTwo210',\n",
       "   'height': 140,\n",
       "   'width': 210,\n",
       "   'type': 'image',\n",
       "   'subtype': 'photo',\n",
       "   'caption': None,\n",
       "   'copyright': None},\n",
       "  {'url': 'https://static01.nyt.com/images/2019/03/27/autossell/00sl-sheet-still-4/00sl-sheet-still-4-mediumThreeByTwo440.png',\n",
       "   'format': 'mediumThreeByTwo440',\n",
       "   'height': 293,\n",
       "   'width': 440,\n",
       "   'type': 'image',\n",
       "   'subtype': 'photo',\n",
       "   'caption': None,\n",
       "   'copyright': None}]}"
      ]
     },
     "execution_count": 28,
     "metadata": {},
     "output_type": "execute_result"
    }
   ],
   "source": [
    "resp['results'][0]"
   ]
  },
  {
   "cell_type": "code",
   "execution_count": 20,
   "metadata": {},
   "outputs": [
    {
     "data": {
      "text/plain": [
       "[('2019-03-27', '11:32:04'),\n",
       " ('2019-03-27', '11:32:12'),\n",
       " ('2019-03-27', '11:28:07'),\n",
       " ('2019-03-27', '11:32:27'),\n",
       " ('2019-03-27', '11:32:16'),\n",
       " ('2019-03-27', '11:20:49'),\n",
       " ('2019-03-27', '11:19:46'),\n",
       " ('2019-03-27', '11:06:32'),\n",
       " ('2019-03-27', '11:06:30'),\n",
       " ('2019-03-27', '11:01:31'),\n",
       " ('2019-03-27', '10:37:19'),\n",
       " ('2019-03-27', '10:44:51'),\n",
       " ('2019-03-27', '10:35:36'),\n",
       " ('2019-03-27', '10:31:31'),\n",
       " ('2019-03-27', '10:17:10'),\n",
       " ('2019-03-27', '10:15:24'),\n",
       " ('2019-03-27', '10:06:25'),\n",
       " ('2019-03-27', '10:01:36'),\n",
       " ('2019-03-27', '10:01:35'),\n",
       " ('2019-03-27', '10:01:35')]"
      ]
     },
     "execution_count": 20,
     "metadata": {},
     "output_type": "execute_result"
    }
   ],
   "source": [
    "import re\n",
    "regexday = re.compile(r\"(\\d{4}-\\d{2}-\\d{2})\")\n",
    "regexhour = re.compile(r\"(\\d{2}:\\d{2}:\\d{2})\")\n",
    "times = [(re.findall(regexday, art['updated_date'])[0], re.findall(regexhour, art['updated_date'])[0]) for art in resp['results']]\n",
    "times"
   ]
  },
  {
   "cell_type": "code",
   "execution_count": 46,
   "metadata": {},
   "outputs": [],
   "source": [
    "seen = set()"
   ]
  },
  {
   "cell_type": "code",
   "execution_count": null,
   "metadata": {},
   "outputs": [],
   "source": []
  },
  {
   "cell_type": "code",
   "execution_count": null,
   "metadata": {},
   "outputs": [],
   "source": []
  },
  {
   "cell_type": "code",
   "execution_count": 47,
   "metadata": {},
   "outputs": [
    {
     "name": "stdout",
     "output_type": "stream",
     "text": [
      "Already seen a\n"
     ]
    }
   ],
   "source": [
    "for i in [\"a\", \"b\", \"c\", \"a\"]:\n",
    "    if i in seen:\n",
    "        print(\"Already seen\", i)\n",
    "    else:\n",
    "        seen.add(i)"
   ]
  },
  {
   "cell_type": "code",
   "execution_count": null,
   "metadata": {},
   "outputs": [],
   "source": []
  },
  {
   "cell_type": "code",
   "execution_count": 41,
   "metadata": {},
   "outputs": [
    {
     "data": {
      "text/plain": [
       "defaultdict(bool, {'42': False})"
      ]
     },
     "execution_count": 41,
     "metadata": {},
     "output_type": "execute_result"
    }
   ],
   "source": []
  },
  {
   "cell_type": "code",
   "execution_count": null,
   "metadata": {},
   "outputs": [],
   "source": []
  }
 ],
 "metadata": {
  "kernelspec": {
   "display_name": "Python 3",
   "language": "python",
   "name": "python3"
  },
  "language_info": {
   "codemirror_mode": {
    "name": "ipython",
    "version": 3
   },
   "file_extension": ".py",
   "mimetype": "text/x-python",
   "name": "python",
   "nbconvert_exporter": "python",
   "pygments_lexer": "ipython3",
   "version": "3.7.1"
  }
 },
 "nbformat": 4,
 "nbformat_minor": 2
}
